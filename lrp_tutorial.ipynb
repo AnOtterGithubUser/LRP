{
 "cells": [
  {
   "cell_type": "markdown",
   "metadata": {},
   "source": [
    "# Relevance backpropagation with deep taylor decomposition"
   ]
  },
  {
   "cell_type": "code",
   "execution_count": 1,
   "metadata": {},
   "outputs": [],
   "source": [
    "%load_ext autoreload\n",
    "%autoreload 2\n",
    "%matplotlib inline\n",
    "from lrp_layers import LRPLinear, LRPReLU\n",
    "from torch.utils.data import DataLoader, Dataset\n",
    "from utils import MNISTData\n",
    "import matplotlib.pyplot as plt\n",
    "import torch.nn as nn\n",
    "import torch\n",
    "import numpy as np"
   ]
  },
  {
   "cell_type": "code",
   "execution_count": 2,
   "metadata": {},
   "outputs": [
    {
     "data": {
      "text/plain": [
       "<matplotlib.figure.Figure at 0x7f09b404e4a8>"
      ]
     },
     "metadata": {},
     "output_type": "display_data"
    },
    {
     "data": {
      "image/png": "[encoded data removed]",
      "text/plain": [
       "<matplotlib.figure.Figure at 0x7f09b404e588>"
      ]
     },
     "metadata": {},
     "output_type": "display_data"
    }
   ],
   "source": [
    "# Load data and display sample\n",
    "X, y = MNISTData('data')\n",
    "plt.gray()\n",
    "plt.matshow(X[0].reshape((28, 28)))\n",
    "plt.show()"
   ]
  },
  {
   "cell_type": "code",
   "execution_count": 3,
   "metadata": {
    "collapsed": true
   },
   "outputs": [],
   "source": [
    "# Build dataset\n",
    "class MNISTDataset(Dataset):\n",
    "    \n",
    "    def __init__(self, path):\n",
    "        self.X, self.y = MNISTData(path)\n",
    "        \n",
    "    def __len__(self):\n",
    "        return self.X.shape[0]\n",
    "    \n",
    "    def __getitem__(self, idx):\n",
    "        return torch.from_numpy(self.X[idx, :]).float(), torch.from_numpy(self.y[idx, :]).float()"
   ]
  },
  {
   "cell_type": "code",
   "execution_count": 4,
   "metadata": {},
   "outputs": [],
   "source": [
    "# Build model\n",
    "model = nn.Sequential(\n",
    "            LRPLinear(784, 200), LRPReLU(),\n",
    "            LRPLinear(200, 100), LRPReLU(),\n",
    "            LRPLinear(100, 10))"
   ]
  },
  {
   "cell_type": "code",
   "execution_count": 5,
   "metadata": {},
   "outputs": [
    {
     "name": "stdout",
     "output_type": "stream",
     "text": [
      "Epoch 0, batch 100, loss: 111.746\n",
      "Epoch 0, batch 200, loss: 45.910\n",
      "Epoch 0, batch 300, loss: 33.920\n",
      "Epoch 0, batch 400, loss: 29.711\n",
      "Epoch 0, batch 500, loss: 28.079\n",
      "Finished training!\n"
     ]
    }
   ],
   "source": [
    "# Train the model\n",
    "MNISTDataloader = DataLoader(MNISTDataset('data'), batch_size=20, shuffle=True)\n",
    "optimizer = torch.optim.Adam(model.parameters())\n",
    "criterion = nn.CrossEntropyLoss()\n",
    "n_epochs = 1\n",
    "\n",
    "for epoch in range(n_epochs):\n",
    "    running_loss = 0.\n",
    "    for i, batch in enumerate(MNISTDataloader, 0):\n",
    "        inputs, labels = batch\n",
    "        labels = torch.max(labels, 1)[1]\n",
    "        optimizer.zero_grad()\n",
    "        outputs = model(inputs)\n",
    "        loss = criterion(outputs, labels)\n",
    "        loss.backward()\n",
    "        optimizer.step()\n",
    "        running_loss += loss.item()\n",
    "        if i%100 == 99:\n",
    "            print(\"Epoch %s, batch %s, loss: %.3f\" % (epoch, i+1, running_loss))\n",
    "            running_loss = 0.\n",
    "print(\"Finished training!\")"
   ]
  },
  {
   "cell_type": "code",
   "execution_count": 6,
   "metadata": {},
   "outputs": [],
   "source": [
    "# Relevance backpropagation\n",
    "random_index = np.random.randint(0, high=X.shape[0], size=(3))\n",
    "sample = X[random_index, :]\n",
    "sample = torch.from_numpy(sample).float()\n",
    "label = y[random_index, :]\n",
    "label = torch.from_numpy(label).float()\n",
    "output = model(sample)\n",
    "R = output * label\n",
    "for i in range(len(model)-1):\n",
    "    R = model[-i-1].backward_relevance(R, rule=\"z+\")\n",
    "R = model[0].backward_relevance(R, rule=\"zbeta\")"
   ]
  },
  {
   "cell_type": "code",
   "execution_count": 7,
   "metadata": {},
   "outputs": [
    {
     "data": {
      "text/plain": [
       "<matplotlib.figure.Figure at 0x7f0989f57b00>"
      ]
     },
     "metadata": {},
     "output_type": "display_data"
    },
    {
     "data": {
      "image/png": "[encoded data removed]",
      "text/plain": [
       "<matplotlib.figure.Figure at 0x7f0989fc5da0>"
      ]
     },
     "metadata": {},
     "output_type": "display_data"
    },
    {
     "data": {
      "text/plain": [
       "<matplotlib.figure.Figure at 0x7f0989f1e588>"
      ]
     },
     "metadata": {},
     "output_type": "display_data"
    },
    {
     "data": {
      "image/png": "[encoded data removed]",
      "text/plain": [
       "<matplotlib.figure.Figure at 0x7f0989fce6a0>"
      ]
     },
     "metadata": {},
     "output_type": "display_data"
    },
    {
     "data": {
      "text/plain": [
       "<matplotlib.figure.Figure at 0x7f0989ed0358>"
      ]
     },
     "metadata": {},
     "output_type": "display_data"
    },
    {
     "data": {
      "image/png": "[encoded data removed]",
      "text/plain": [
       "<matplotlib.figure.Figure at 0x7f0989ef8400>"
      ]
     },
     "metadata": {},
     "output_type": "display_data"
    }
   ],
   "source": [
    "# Display the sample\n",
    "for i in range(sample.shape[0]):\n",
    "    plt.gray()\n",
    "    plt.matshow(sample[i, :].reshape((28, 28)))\n",
    "    plt.show()"
   ]
  },
  {
   "cell_type": "code",
   "execution_count": 8,
   "metadata": {},
   "outputs": [
    {
     "data": {
      "image/png": "[encoded data removed]",
      "text/plain": [
       "<matplotlib.figure.Figure at 0x7f0989edb320>"
      ]
     },
     "metadata": {},
     "output_type": "display_data"
    },
    {
     "data": {
      "image/png": "[encoded data removed]",
      "text/plain": [
       "<matplotlib.figure.Figure at 0x7f0989e2dc88>"
      ]
     },
     "metadata": {},
     "output_type": "display_data"
    },
    {
     "data": {
      "image/png": "[encoded data removed]",
      "text/plain": [
       "<matplotlib.figure.Figure at 0x7f0989e14da0>"
      ]
     },
     "metadata": {},
     "output_type": "display_data"
    }
   ],
   "source": [
    "# Display the relevance heatmap\n",
    "R = R.detach().data.numpy()\n",
    "for i in range(R.shape[0]):\n",
    "    R_i = R[i].reshape((28, 28))\n",
    "    plt.imshow(R_i, cmap='hot', interpolation='nearest')\n",
    "    plt.show()"
   ]
  },
  {
   "cell_type": "raw",
   "metadata": {
    "collapsed": true
   },
   "source": []
  },
  {
   "cell_type": "code",
   "execution_count": null,
   "metadata": {
    "collapsed": true
   },
   "outputs": [],
   "source": []
  },
  {
   "cell_type": "code",
   "execution_count": null,
   "metadata": {
    "collapsed": true
   },
   "outputs": [],
   "source": []
  }
 ],
 "metadata": {
  "kernelspec": {
   "display_name": "Python 3",
   "language": "python",
   "name": "python3"
  },
  "language_info": {
   "codemirror_mode": {
    "name": "ipython",
    "version": 3
   },
   "file_extension": ".py",
   "mimetype": "text/x-python",
   "name": "python",
   "nbconvert_exporter": "python",
   "pygments_lexer": "ipython3",
   "version": "3.6.3"
  }
 },
 "nbformat": 4,
 "nbformat_minor": 2
}
